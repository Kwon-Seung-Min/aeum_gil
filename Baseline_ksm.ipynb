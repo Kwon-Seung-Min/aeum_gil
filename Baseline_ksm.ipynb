{
  "nbformat": 4,
  "nbformat_minor": 0,
  "metadata": {
    "colab": {
      "name": "Baseline_ksm.ipynb",
      "provenance": [],
      "collapsed_sections": []
    },
    "kernelspec": {
      "name": "python3",
      "display_name": "Python 3"
    },
    "language_info": {
      "name": "python"
    }
  },
  "cells": [
    {
      "cell_type": "markdown",
      "metadata": {
        "id": "db7PeIwn3KX2"
      },
      "source": [
        "# **애움길 프로젝트 베이스라인 모델 공부**\n",
        "\n",
        "애움길에서는 느린학습자들이 이해할 수 있는 교육 관련 컨텐츠를 제작하고 있습니다.\n",
        "\n",
        "이번 Google Colab에서는 활용 가능한 베이스라인 모델에 관련하여 살펴보는 시간이 될 것입니다.\n",
        "\n",
        "설명 중 🔔 모양이 달린 부분은 미니 해커톤 부분으로 특별히 언급된 내용입니다.\n",
        "\n",
        "## **생성 요약(abstractive summary)**\n",
        "자연어 처리에서 문서 요약은 크게 추출요약(extractive summary)과 생성요약(abstractive summary)로 나눌 수 있습니다.\n",
        "\n",
        "그 중에서 우리는 생성요약 모델을 주로 다루게 되는데요. 생성요약이 추출요약과 공통점도 있지만, 차이점도 있습니다.\n",
        "\n",
        "일단 공통점은 토큰 간의 관계를 계산하여 요약을 한다는 점을 들 수 있습니다.\n",
        "\n",
        "하지만 생성요약은 추출요약과는 달리 원문에 없는 단어를 포함한 문장으로 요약을 하게 됩니다.\n",
        "\n",
        "예를 들어 이러한 문장이 있다고 해 봅시다.\n",
        "\n",
        "---\n",
        "\n",
        "나는 오늘 친구와 만났다. 나는 친구와 피자를 먹고 맥주를 마셨다. 나와 친구는 밥을 먹고 보드게임 카페를 갔다. 거기서 할리갈리를 했는데 매우 재미 있었다.\n",
        "\n",
        "---\n",
        "\n",
        "위 문장에 대하여 생성요약을 실행하면 대충 **'나는 오늘 친구와 엄청 재미있게 놀았다.'** 와 같은 형식으로 요약이 진행되겠죠?\n",
        "\n",
        "원문에는 없던 단어를 포함하여 요약하기 때문에, 생성요약은 추출요약에 비해 정보의 누락 정도가 낮은 대신 학습 시간과 컴퓨팅 리소스가 많이 들어간다는 단점이 있습니다!\n",
        "\n",
        "## **ROUGE Metric (🔔🔔)**\n",
        "모델의 요약 능력을 나타내는 자동화된 평가 지표를 말합니다.\n",
        "\n",
        "이는 사람에 의해 생성된 요약문이 실제 맞춰야 하는 요약문과 얼마나 비슷한지를 체크하는 데 도움을 줄 수 있습니다. 관련 자료는 아래에 첨부해 두겠습니다.\n",
        "\n",
        "https://huffon.github.io/2019/12/07/rouge/\n",
        "\n",
        "## **BERTSumAbs (생성요약 전용 BERTSum 모델)**\n",
        "\n",
        "애움길에서는 원문에서만 요약을 진행하는 추출요약이 아닌 생성요약에 초점이 맞춰져 있습니다. 또한 생성된 요약문이 느린학습자에게 이해하기 쉽도록 만들어주어야 하겠습니다.\n",
        "\n",
        "BERTSumAbs는 생성요약을 담당하는 BERTSum 모델입니다. 이에 대한 자세한 설명이 아래 논문 해석 **슬라이드 30-32p의 Introduction**과 **36-42p의 Abstractive Model** 부분에 자세히 나와 있습니다!\n",
        "\n",
        "https://drive.google.com/file/d/1wpEChNwPf8O2pRmG5IwX59kRuNjq9Ekj/view\n",
        "\n",
        "## **Cross Validation (교차 검증, 🔔🔔)**\n",
        "\n",
        "애움길 노션 미니 해커톤 내용을 잘 살펴보면 cross validation이라는 용어가 등장합니다. 용어의 개념과 실제 사이킷런에서 어떻게 구현하는지를 담은 내용이니, 살펴보는 것도 좋겠네요!\n",
        "\n",
        "**개념편** : https://losskatsu.github.io/machine-learning/cross-validation/#%EB%A8%B8%EC%8B%A0%EB%9F%AC%EB%8B%9D-%ED%81%AC%EB%A1%9C%EC%8A%A4-%EB%B0%B8%EB%A6%AC%EB%8D%B0%EC%9D%B4%EC%85%98cross-validation-%EA%B5%90%EC%B0%A8-%EA%B2%80%EC%A6%9D%EC%9D%98-%EA%B0%9C%EB%85%90-%EC%9D%98%EB%AF%B8\n",
        "\n",
        "**구현편** : https://woolulu.tistory.com/70\n",
        "\n"
      ]
    }
  ]
}